{
 "cells": [
  {
   "cell_type": "code",
   "execution_count": 49,
   "metadata": {
    "colab": {},
    "colab_type": "code",
    "id": "Y3vXRLRj5NjP"
   },
   "outputs": [],
   "source": [
    "import numpy as np \n",
    "import scipy.stats as st \n",
    "from queue import *\n",
    "import math\n",
    "from distances import *\n",
    "from statistics import mean \n",
    "import matplotlib.pyplot as plt\n"
   ]
  },
  {
   "cell_type": "code",
   "execution_count": 50,
   "metadata": {
    "colab": {},
    "colab_type": "code",
    "id": "VlbFsVPW5NjT"
   },
   "outputs": [],
   "source": [
    "\n",
    "class Event: \n",
    "    def __init__( self, time ):\n",
    "        self.time = time   \n",
    "    def __lt__( self, other ):\n",
    "        return self.time < other.time  \n",
    "    def handle( self ):\n",
    "        \"\"\"updates the global simulation clock time to the class's current time attribute\n",
    "        preconditions: none\"\"\"\n",
    "        global simulationclock\n",
    "        simulationclock = self.time\n",
    "    \n",
    "class NewRequest(Event, object): #An arrival occurs \n",
    "    def __init__( self, time):\n",
    "        \"\"\"creates a new object of class NewRequest and sets the class time attribute to the time argument\n",
    "        Preconditions: time is the desired simulation clock time of the NewRequest\"\"\"\n",
    "        super(NewRequest, self).__init__( time )\n",
    "    def __lt__( self, other ):\n",
    "        return self.time < other.time   \n",
    "    def handle( self ):\n",
    "   \n",
    "        super(NewRequest, self).handle() # inherit operations in the function in the base class, simulation clock updated to the time when the arrival event occurs\n",
    "        center = getBC()\n",
    "        # request = Request(nextId, center, simulationclock, None )\n",
    "        request = Request(center, simulationclock, None )\n",
    "        # nextId += 1 \n",
    "        eventlist.put( NewRequest( simulationclock + arrivaltime() ) )\n",
    "        closest_mechanic_center, distance = closest_available_mechanic(request.center, bc_list)\n",
    "        if closest_mechanic_center == None:\n",
    "            requestQueue.append(request) \n",
    "        elif closest_mechanic_center == DispatchCenter: \n",
    "            DispatchCenter.num_mechs -= 1\n",
    "            eventlist.put(mech_Arrives(simulationclock+(distance/60), request.center, request)) \n",
    "        else: \n",
    "            eventlist.put(mech_Arrives(simulationclock+(distance/60), request.center, request))\n",
    "            closest_mechanic_center.free_mechanics -= 1\n",
    "            closest_mechanic_center.number_of_mechanics -=1\n",
    "\n",
    "\n",
    "class mech_Arrives(Event, object): \n",
    "    def __init__(self, time, business_center, request): \n",
    "        super(mech_Arrives, self).__init__(time)\n",
    "        self.business_center = business_center\n",
    "        self.request = request\n",
    "    def __lt__( self, other ):\n",
    "        return self.time < other.time  \n",
    "    def handle(self):\n",
    "        \"\"\"update the global simulation time to the event time, schedule the end of the diagnosis for \n",
    "        diagnosis_time later, and increase the number of busy mechanics at the business center by 1\"\"\"\n",
    "        super(mech_Arrives, self).handle()\n",
    "        self.request.time_responded = (simulationclock - self.request.timeEntered)*60\n",
    "        time_to_respond_avg.append(self.request.time_responded) if simulationclock>t else None\n",
    "        diag_time = diagnosis_Time(self.business_center)\n",
    "        self.business_center.number_of_mechanics += 1 \n",
    "        eventlist.put(diag_ends(simulationclock+ diag_time, self.business_center))\n",
    "        \n",
    "        \n",
    "\n",
    "class diag_ends(Event, object):\n",
    "    def __init__(self, time, business_center):\n",
    "        super(diag_ends, self).__init__(time)\n",
    "        self.business_center = business_center\n",
    "    def __lt__( self, other ):\n",
    "        return self.time < other.time  \n",
    "    def handle(self):\n",
    "        super(diag_ends, self).handle()\n",
    "        BC_prob = np.random.uniform(0,1)\n",
    "        options = ['repair', 'replace']\n",
    "        outcome_probabilities = np.array([0.8195, 0.1805])\n",
    "\n",
    "        outcome = np.random.choice(options, 1, p = outcome_probabilities)[0]   \n",
    "        if outcome == 'repair':\n",
    "            eventlist.put(repair_start(simulationclock, self.business_center))\n",
    "        else:\n",
    "            eventlist.put(call_van(simulationclock, self.business_center))\n",
    "\n",
    "class repair_start(Event, object): \n",
    "    def __init__(self, time, business_center): \n",
    "        super(repair_start, self).__init__(time)\n",
    "        self.business_center = business_center\n",
    "    def __lt__( self, other ):\n",
    "        return self.time < other.time  \n",
    "    def handle(self): \n",
    "        super().handle()\n",
    "        repair_time = st.beta.rvs(2.6158007964976218, 7.460626334186162, -0.0077049330279426054, 1.557915557823419, size=1)[0]\n",
    "        #repair_time = st.beta.rvs(3, 8, -0.0077049330279426054, 1.557915557823419, size=1)[0]\n",
    "        #repair_time = st.rayleigh.rvs(0.0013399745442049282, 0.31486846900358867)\n",
    "        eventlist.put(repair_end(simulationclock+ repair_time, self.business_center))\n",
    "\n",
    "\n",
    "class repair_end(Event, object):\n",
    "    def __init__(self, time, business_center): \n",
    "        super(repair_end, self).__init__(time)\n",
    "        self.business_center = business_center\n",
    "    def __lt__( self, other ):\n",
    "        return self.time < other.time  \n",
    "    def handle(self): \n",
    "        super(repair_end, self).handle()\n",
    "        eventlist.put(mechanic_leaves_business_center(simulationclock, self.business_center))           \n",
    "\n",
    "            \n",
    "class mech_goes_to_dispatch(Event,object): \n",
    "    def __init__(self, time):\n",
    "        super(mech_goes_to_dispatch,self).__init__(time)\n",
    "    def __lt__( self, other ):\n",
    "        return self.time < other.time  \n",
    "    def handle(self):\n",
    "        super(mech_goes_to_dispatch,self).handle()\n",
    "        DispatchCenter.num_mechs += 1\n",
    "        if len(requestQueue>0):\n",
    "            req = requestQueue[0]\n",
    "            requestQueue.remove(req)\n",
    "            dist = distances.at['Dis', req.center.name]\n",
    "            travel_time = dist/60\n",
    "            eventlist.put(mech_Arrives(simulationclock+travel_time, req.center, req))\n",
    "            DispatchCenter.num_mechs -= 1\n",
    "            \n",
    "\n",
    "        \n",
    "\n",
    "\n",
    "####### REPLAACEMENT STARTS HERE\n",
    "class call_van(Event,object):\n",
    "    def __init__(self, time, business_center):\n",
    "        super().__init__( time )\n",
    "        self.business_center = business_center\n",
    "    def handle(self):\n",
    "        super(call_van,self).handle()\n",
    "        copier_request =  Request(self.business_center, simulationclock, None)\n",
    "        if DispatchCenter.available_vans > 0: \n",
    "            DispatchCenter.available_vans -= 1 \n",
    "            dist = distances.at['Dis', copier_request.center.name]\n",
    "            travel_time = dist/60\n",
    "            eventlist.put(van_arrives_at_bc(simulationclock+travel_time, self.business_center, copier_request))           \n",
    "        else:\n",
    "            copierQueue.put(copier_request)\n",
    "        eventlist.put(mechanic_leaves_business_center(simulationclock, self.business_center))           \n",
    "\n",
    "\n",
    "class mechanic_leaves_business_center(Event, object):\n",
    "    def __init__(self, time, business_center):\n",
    "        super().__init__( time )\n",
    "        self.business_center = business_center\n",
    "    def handle(self):\n",
    "        super(mechanic_leaves_business_center, self).handle()\n",
    "        if len(requestQueue)==0:\n",
    "            self.business_center.free_mechanics += 1\n",
    "        else: \n",
    "            req = closest_request(self.business_center)\n",
    "            dist = distances.at[req.center.name, self.business_center.name]\n",
    "            travel_time = dist/60\n",
    "            eventlist.put(mech_Arrives(simulationclock+travel_time, req.center, req))\n",
    "            self.business_center.number_of_mechanics -= 1 \n",
    "\n",
    "            \n",
    "     \n",
    "                \n",
    "class van_arrives_at_bc(Event, object):\n",
    "    def __init__(self, time, business_center, copier_request ):\n",
    "        super().__init__( time )\n",
    "        self.business_center = business_center\n",
    "        self.copier_request = copier_request\n",
    "    def handle(self):\n",
    "        super(van_arrives_at_bc, self).handle()\n",
    "        eventlist.put(van_returns_to_dispatch(simulationclock+swaptime_customer(), self.business_center, self.copier_request))\n",
    "        \n",
    "\n",
    "\n",
    "class van_returns_to_dispatch(Event, object):\n",
    "    def __init__(self, time, business_center, copier_request):\n",
    "        super().__init__(time)\n",
    "        self.business_center = business_center\n",
    "        self.copier_request = copier_request\n",
    "    def handle(self):\n",
    "        super(van_returns_to_dispatch, self).handle()\n",
    "        self.copier_request.time_responded = (simulationclock - self.copier_request.timeEntered)*60\n",
    "        copier_req_times.append(self.copier_request.time_responded) if simulationclock>t else None\n",
    "        dist = distances.at['Dis', self.business_center.name]\n",
    "        travel_time = dist/60 \n",
    "        eventlist.put(van_swaps_copiers(simulationclock+travel_time))  \n",
    "\n",
    "                      \n",
    "class van_swaps_copiers(Event, object):\n",
    "    def __init__(self, time):\n",
    "        super().__init__(time)\n",
    "    def handle(self):\n",
    "        super(van_swaps_copiers, self).handle()\n",
    "        eventlist.put(vans_finishes_swap(simulationclock + swaptime_dispatch()))\n",
    "            \n",
    "class vans_finishes_swap(Event, object):\n",
    "    def __init__(self, time):\n",
    "        super().__init__(time)\n",
    "    def handle(self):\n",
    "        super(vans_finishes_swap , self).handle()\n",
    "        if copierQueue.empty():\n",
    "            DispatchCenter.available_vans += 1\n",
    "        else:\n",
    "            cop_req = copierQueue.get()\n",
    "            dist = distances.at['Dis', cop_req.center.name]\n",
    "            travel_time = dist/60\n",
    "            eventlist.put(van_arrives_at_bc(simulationclock+travel_time, cop_req.center, cop_req))\n",
    "            \n",
    "\n",
    "    \n",
    "\n",
    "class Request(object): \n",
    "    def __init__( self, center, timeEntered, time_responded=None ):\n",
    "        self.center = center\n",
    "        # self.id = id      \n",
    "        self.timeEntered = timeEntered\n",
    "        self.time_responded = time_responded\n",
    "\n",
    "def arrivaltime(): #Comes from input analysis question 6  \n",
    "    global arrivalrate\n",
    "    time_of_day = simulationclock%24\n",
    "    if time_of_day < 22 and time_of_day >3: \n",
    "        arrivalrate = (-0.067*(time_of_day**2)) + 1.581*(time_of_day) - 1.289 \n",
    "    else: \n",
    "        arrivalrate = 1.137 \n",
    "    return np.random.exponential( 1 / arrivalrate )\n",
    "\n",
    "def swaptime_dispatch(): #Service time to swap at the dispatch center, keeping everything in hours \n",
    "    return np.random.triangular(left=10/60, mode=15/60, right=25/60)\n",
    "\n",
    "def swaptime_customer(): #Service time to swap at customer loctation \n",
    "    return np.random.triangular(left=20/60, mode=30/60, right = 1)\n",
    "        \n",
    "# def diagnosis_Time(bc):\n",
    "#     if bc.name in ['BC_2', 'BC_3', 'BC_9']:\n",
    "#         return 1/60*np.random.normal(16.13, 2.89)\n",
    "#     else: \n",
    "#         return 1/60*np.random.normal(22.15, 5.34)\n",
    "\n",
    "\n",
    "def closest_available_mechanic(business_center, bc_list):\n",
    "    available_mechanic_centers = []\n",
    "    for x in bc_list:\n",
    "        if x.free_mechanics > 0:\n",
    "            available_mechanic_centers.append(x)\n",
    "    if len(available_mechanic_centers)==0 and DispatchCenter.num_mechs ==0:\n",
    "        return None, None\n",
    "        \n",
    "\n",
    "    if len(available_mechanic_centers)==0:\n",
    "        if DispatchCenter.num_mechs > 0:\n",
    "            disp_dist = distances.at['Dis', business_center.name]\n",
    "            return DispatchCenter, disp_dist\n",
    "\n",
    "        \n",
    "    \n",
    "    min_dist_center = available_mechanic_centers[0]\n",
    "    min_dist = distances.at[min_dist_center.name, business_center.name]\n",
    "\n",
    "    for y in available_mechanic_centers:\n",
    "        dist = distances.at[y.name, business_center.name]\n",
    "        if dist < min_dist:\n",
    "            min_dist = dist\n",
    "            min_dist_center = y\n",
    "    if DispatchCenter.num_mechs != 0:\n",
    "        disp_dist = distances.at['Dis', business_center.name]\n",
    "        if disp_dist < min_dist:\n",
    "            min_dist = disp_dist\n",
    "            min_dist_center = DispatchCenter\n",
    "  \n",
    "    return min_dist_center, min_dist\n",
    "\n",
    "\n",
    "def closest_request(BC):\n",
    "    closest_req=requestQueue[0]\n",
    "    closest_dist=distances.at[BC.name, closest_req.center.name]\n",
    "    for req in requestQueue:\n",
    "        if distances.at[BC.name, req.center.name] < closest_dist:\n",
    "            closest_dist=distances.at[BC.name, req.center.name]\n",
    "            closest_req=req\n",
    "    requestQueue.remove(closest_req)\n",
    "    return closest_req\n",
    "\n",
    "\n",
    "\n",
    "    "
   ]
  },
  {
   "cell_type": "code",
   "execution_count": 51,
   "metadata": {
    "colab": {},
    "colab_type": "code",
    "id": "0zbpkO8l5NjX"
   },
   "outputs": [],
   "source": [
    "class business_center(object):\n",
    "    def __init__( self, name, coordinates, number_of_mechanics=0, number_of_vans=0, free_mechanics=0):\n",
    "        self.name=name\n",
    "        self.coordinates = coordinates\n",
    "        self.number_of_mechanics = number_of_mechanics\n",
    "        self.number_of_vans = number_of_vans\n",
    "        self.free_mechanics = free_mechanics"
   ]
  },
  {
   "cell_type": "code",
   "execution_count": 52,
   "metadata": {
    "colab": {},
    "colab_type": "code",
    "id": "eXQu5GR05NjZ"
   },
   "outputs": [],
   "source": [
    "class van(object):\n",
    "    def __init__( self, busy=False, current_location=0, broken=False):\n",
    "        self.busy = busy\n",
    "        self.current_location = current_location \n",
    "        self.broken = broken"
   ]
  },
  {
   "cell_type": "code",
   "execution_count": 53,
   "metadata": {
    "colab": {},
    "colab_type": "code",
    "id": "KMS8N0Av5Njc"
   },
   "outputs": [],
   "source": [
    "class dispatch(object):\n",
    "    def __init__(self, coordinates, available_vans, num_mechs):\n",
    "        self.coordinates = coordinates\n",
    "        self.available_vans = available_vans\n",
    "        self.num_mechs = num_mechs\n"
   ]
  },
  {
   "cell_type": "code",
   "execution_count": 54,
   "metadata": {
    "colab": {},
    "colab_type": "code",
    "id": "btLrW1FV5Njf"
   },
   "outputs": [],
   "source": [
    "class mechanic(object):\n",
    "    def __init__(self, busy=False, current_location=0):\n",
    "        self.busy = busy\n",
    "        self.current_location= current_location\n"
   ]
  },
  {
   "cell_type": "code",
   "execution_count": 56,
   "metadata": {},
   "outputs": [
    {
     "name": "stdout",
     "output_type": "stream",
     "text": [
      "39.96003594915098\n",
      "40.76243095339204\n",
      "40.88751722359163\n",
      "40.828997132670686\n",
      "41.029886456531464\n",
      "40.96956996372014\n",
      "40.880376167118946\n",
      "40.74757845893363\n",
      "40.76904644687389\n",
      "40.881249668518585\n",
      "41.00335261402874\n",
      "41.1926052769033\n",
      "41.12049750700194\n",
      "41.152528829662394\n",
      "41.13120156381147\n",
      "41.11331196876526\n",
      "41.15823015814637\n",
      "41.24059422513399\n",
      "41.24992763803799\n",
      "41.20048631982858\n",
      "41.18610794067206\n",
      "41.13724227582965\n",
      "41.1467102303548\n",
      "41.013159776460505\n",
      "41.03116174101684\n",
      "41.01372012790367\n",
      "41.00264492345725\n",
      "40.97433494633272\n",
      "41.026777831340155\n",
      "41.009022406376026\n",
      "41.02363193723404\n",
      "40.984116408597416\n",
      "40.97032396864241\n",
      "40.91569370992213\n",
      "40.89664462648703\n",
      "40.91612641028639\n",
      "40.952185469770434\n",
      "40.93636095699925\n",
      "40.945328745674765\n",
      "40.93444879251221\n",
      "40.96394081435673\n",
      "40.98991498202869\n",
      "40.98246782997069\n",
      "41.05142235234586\n",
      "41.06651298058406\n",
      "41.058310143301014\n",
      "41.055053082854485\n",
      "41.02345596696991\n",
      "41.00780350477161\n",
      "41.00172141286402\n"
     ]
    }
   ],
   "source": [
    "bc_coords = [[6,10],[4,8],[4,6],[1,6],[1,7],[9,3],[11,3],[9,2],[9,1],[11,1]]\n",
    "bc_names = ['BC_1', 'BC_2', 'BC_3', 'BC_4', 'BC_5', 'BC_6', 'BC_7', 'BC_8', 'BC_9', 'BC_10']\n",
    "\n",
    "# bc_list = []\n",
    "# for i in range(len(bc_coords)):\n",
    "#     bc_list.append(business_center(bc_names[i], bc_coords[i] , 0, 0, 0))\n",
    "def getBC():\n",
    "    BC_prob = np.random.uniform(0,1)\n",
    "    probabilities = np.array([0.039509, 0.082089, 0.107916, 0.135418, 0.118386, \n",
    "                              0.055005, 0.123830, 0.057937, 0.137512, 0.142398])\n",
    "    return np.random.choice(bc_list, 1, p = probabilities)[0]\n",
    "\n",
    "\n",
    "\n",
    "#mean and standard errors of the estimates\n",
    "mec_avgs_mean1=[]\n",
    "mec_se_std1=[]\n",
    "van_avgs_mean1=[]\n",
    "van_se_std1=[]\n",
    "t=50\n",
    "T=100\n",
    "B=50\n",
    "mu1=16.13\n",
    "mu2=22.15\n",
    "std1=2.89\n",
    "std2=5.34\n",
    "\n",
    "# ****SENSITIVITY ANALYSIS PART****\n",
    "#Looping Through Perturbed Values \n",
    "std_adjusts=np.linspace(start= -1, stop=1, num=50)\n",
    "std_array=[]\n",
    "for j in std_adjusts:\n",
    "    #copy in function that we want to look at\n",
    "    def diagnosis_Time(bc):\n",
    "        #Here we are altering the standard deviation values \n",
    "        if bc.name in ['BC_2', 'BC_3', 'BC_9']:\n",
    "            return 1/60*np.random.normal(mu2, std2+j)\n",
    "        else: \n",
    "            return 1/60*np.random.normal(mu1, std1-j)\n",
    "    mec_avgs=[]\n",
    "    van_avgs=[]\n",
    "    for i in range(B):\n",
    "        simulationclock = 0\n",
    "        requestQueue = []\n",
    "        copierQueue = Queue()\n",
    "        avail_vans = 3\n",
    "        num_mechs = 7\n",
    "        DispatchCenter = dispatch([5,2], avail_vans, num_mechs)\n",
    "        eventlist = PriorityQueue()\n",
    "        bc_list = []\n",
    "        for i in range(len(bc_coords)):\n",
    "            bc_list.append(business_center(bc_names[i], bc_coords[i] , 0, 0, 0))\n",
    "        a = NewRequest(0)\n",
    "        eventlist.put( a )\n",
    "        time_to_respond_avg = []\n",
    "        copier_req_times = []\n",
    "    \n",
    "        while simulationclock < T:\n",
    "            e = eventlist.get()\n",
    "            e.handle()\n",
    "\n",
    "        mec_avgs.append(np.mean(np.array(time_to_respond_avg)))\n",
    "        van_avgs.append(np.mean(np.array(copier_req_times)))\n",
    "    #keep track of mean and se\n",
    "    std_array.append(std1*j)\n",
    "    mec_avgs_mean1.append(np.mean(np.array(mec_avgs)))\n",
    "    print(mean(mec_avgs_mean1))\n",
    "    mec_se_std1.append(np.std(np.array(mec_avgs))/np.sqrt(B))\n",
    "    van_avgs_mean1.append(np.mean(np.array(van_avgs)))\n",
    "    van_se_std1.append(np.std(np.array(van_avgs))/np.sqrt(B))"
   ]
  },
  {
   "cell_type": "code",
   "execution_count": 69,
   "metadata": {
    "scrolled": true
   },
   "outputs": [
    {
     "name": "stdout",
     "output_type": "stream",
     "text": [
      "41.00172141286402\n"
     ]
    },
    {
     "data": {
      "text/plain": [
       "Text(0.5, 1.0, 'Standard Deviation Perturbations vs Initial Response Time')"
      ]
     },
     "execution_count": 69,
     "metadata": {},
     "output_type": "execute_result"
    },
    {
     "data": {
      "image/png": "[encoded data removed]",
      "text/plain": [
       "<Figure size 432x288 with 1 Axes>"
      ]
     },
     "metadata": {
      "needs_background": "light"
     },
     "output_type": "display_data"
    }
   ],
   "source": [
    "import matplotlib.pyplot as plt\n",
    "plt.plot(std_adjusts, mec_avgs_mean1 )\n",
    "print(mean(mec_avgs_mean1))\n",
    "plt.xlabel(\"Amount standard deviation parameters were shifted by\")\n",
    "plt.ylabel(\"Initial Response Time\")\n",
    "plt.title(\"Standard Deviation Perturbations vs Initial Response Time\")"
   ]
  },
  {
   "cell_type": "code",
   "execution_count": 70,
   "metadata": {},
   "outputs": [
    {
     "name": "stdout",
     "output_type": "stream",
     "text": [
      "141.69548894393927\n"
     ]
    },
    {
     "data": {
      "text/plain": [
       "Text(0.5, 1.0, 'Standard Deviation Perturbations vs Copier Delivery Times')"
      ]
     },
     "execution_count": 70,
     "metadata": {},
     "output_type": "execute_result"
    },
    {
     "data": {
      "image/png": "[encoded data removed]",
      "text/plain": [
       "<Figure size 432x288 with 1 Axes>"
      ]
     },
     "metadata": {
      "needs_background": "light"
     },
     "output_type": "display_data"
    }
   ],
   "source": [
    "plt.plot(std_adjusts, van_avgs_mean1 )\n",
    "print(mean(van_avgs_mean1))\n",
    "plt.xlabel(\"Amount standard deviation parameters were shifted by\")\n",
    "plt.ylabel(\"Copier Delivery Times \")\n",
    "plt.title(\"Standard Deviation Perturbations vs Copier Delivery Times\")"
   ]
  },
  {
   "cell_type": "code",
   "execution_count": 59,
   "metadata": {},
   "outputs": [
    {
     "name": "stdout",
     "output_type": "stream",
     "text": [
      "38.63940508416529\n",
      "38.452428424712664\n",
      "38.230440859999504\n",
      "38.649641376990864\n",
      "38.698482582666486\n",
      "38.66170820385365\n",
      "38.656747031400236\n",
      "38.71760481160717\n",
      "38.64310562296713\n",
      "38.62500335080489\n",
      "38.7028441036071\n",
      "38.74406948002396\n",
      "38.61839628756558\n",
      "38.73410718467689\n",
      "38.83456777100443\n",
      "38.85168120697601\n",
      "38.93077451522391\n",
      "39.021077024469164\n",
      "39.03792072735159\n",
      "39.1586942664775\n",
      "39.276732660906816\n",
      "39.28685349716908\n",
      "39.34546088347152\n",
      "39.39931885419032\n",
      "39.59996250533905\n",
      "39.72889767308307\n",
      "39.796003049685474\n",
      "39.85511113241953\n",
      "39.89821319655604\n",
      "39.95740943883832\n",
      "39.98597687860858\n",
      "40.07625371531906\n",
      "40.137309980962\n",
      "40.19829993376534\n",
      "40.22106786173291\n",
      "40.31149999026816\n",
      "40.45213531764043\n",
      "40.48345139549135\n",
      "40.50886448997517\n",
      "40.549158209781226\n",
      "40.64191515921113\n",
      "40.698394230592214\n",
      "40.76146196605463\n",
      "40.86060801858619\n",
      "40.92488145422066\n",
      "40.93535564038146\n",
      "41.02748442646631\n",
      "41.04702229952224\n",
      "41.10114765958345\n",
      "41.118152794168566\n"
     ]
    }
   ],
   "source": [
    "bc_coords = [[6,10],[4,8],[4,6],[1,6],[1,7],[9,3],[11,3],[9,2],[9,1],[11,1]]\n",
    "bc_names = ['BC_1', 'BC_2', 'BC_3', 'BC_4', 'BC_5', 'BC_6', 'BC_7', 'BC_8', 'BC_9', 'BC_10']\n",
    "\n",
    "# bc_list = []\n",
    "# for i in range(len(bc_coords)):\n",
    "#     bc_list.append(business_center(bc_names[i], bc_coords[i] , 0, 0, 0))\n",
    "def getBC():\n",
    "    BC_prob = np.random.uniform(0,1)\n",
    "    probabilities = np.array([0.039509, 0.082089, 0.107916, 0.135418, 0.118386, \n",
    "                              0.055005, 0.123830, 0.057937, 0.137512, 0.142398])\n",
    "    return np.random.choice(bc_list, 1, p = probabilities)[0]\n",
    "\n",
    "\n",
    "\n",
    "#mean and standard errors of the estimates\n",
    "mec_avgs_mean=[]\n",
    "mec_se_std=[]\n",
    "van_avgs_mean=[]\n",
    "van_se_std=[]\n",
    "t=50\n",
    "T=100\n",
    "B=50\n",
    "mu1=16.13\n",
    "mu2=22.15\n",
    "std1=2.89\n",
    "std2=5.34\n",
    "# ****SENSITIVITY ANALYSIS PART****\n",
    "#Looping Through Perturbed Values \n",
    "mu_adjusts=np.linspace(start=-2,stop=2, num=50)\n",
    "for j in mu_adjusts:\n",
    "    #copy in function that we want to look at\n",
    "    #Here we are adjusting the mean of the diagnosis times \n",
    "    def diagnosis_Time(bc):\n",
    "        if bc.name in ['BC_2', 'BC_3', 'BC_9']:\n",
    "            return 1/60*np.random.normal(mu2+j, std2)\n",
    "        else: \n",
    "            return 1/60*np.random.normal(mu1+j, std1)\n",
    "    mec_avgs=[]\n",
    "    van_avgs=[]\n",
    "    for i in range(B):\n",
    "        simulationclock = 0\n",
    "        requestQueue = []\n",
    "        copierQueue = Queue()\n",
    "        avail_vans = 3\n",
    "        num_mechs = 7\n",
    "        DispatchCenter = dispatch([5,2], avail_vans, num_mechs)\n",
    "        eventlist = PriorityQueue()\n",
    "        bc_list = []\n",
    "        for i in range(len(bc_coords)):\n",
    "            bc_list.append(business_center(bc_names[i], bc_coords[i] , 0, 0, 0))\n",
    "        a = NewRequest(0)\n",
    "        eventlist.put( a )\n",
    "        time_to_respond_avg = []\n",
    "        copier_req_times = []\n",
    "    \n",
    "        while simulationclock < T:\n",
    "            e = eventlist.get()\n",
    "            e.handle()\n",
    "\n",
    "        mec_avgs.append(np.mean(np.array(time_to_respond_avg)))\n",
    "        van_avgs.append(np.mean(np.array(copier_req_times)))\n",
    "    #keep track of mean and se\n",
    "    mec_avgs_mean.append(np.mean(np.array(mec_avgs)))\n",
    "    print(np.mean(mec_avgs_mean))\n",
    "    mec_se_std.append(np.std(np.array(mec_avgs))/np.sqrt(B))\n",
    "    van_avgs_mean.append(np.mean(np.array(van_avgs)))\n",
    "    van_se_std.append(np.std(np.array(van_avgs))/np.sqrt(B))"
   ]
  },
  {
   "cell_type": "code",
   "execution_count": 71,
   "metadata": {
    "scrolled": true
   },
   "outputs": [
    {
     "name": "stdout",
     "output_type": "stream",
     "text": [
      "41.118152794168566\n"
     ]
    },
    {
     "data": {
      "text/plain": [
       "Text(0, 0.5, 'Initial Response Time')"
      ]
     },
     "execution_count": 71,
     "metadata": {},
     "output_type": "execute_result"
    },
    {
     "data": {
      "image/png": "[encoded data removed]",
      "text/plain": [
       "<Figure size 432x288 with 1 Axes>"
      ]
     },
     "metadata": {
      "needs_background": "light"
     },
     "output_type": "display_data"
    }
   ],
   "source": [
    "print(np.mean(mec_avgs_mean))\n",
    "plt.plot(mu_adjusts, mec_avgs_mean )\n",
    "plt.title(\"Mean Perturbations vs Initial Response Time\")\n",
    "plt.xlabel(\"Amount mean paramters were shifted by\")\n",
    "plt.ylabel(\"Initial Response Time\")\n"
   ]
  },
  {
   "cell_type": "code",
   "execution_count": 72,
   "metadata": {},
   "outputs": [
    {
     "name": "stdout",
     "output_type": "stream",
     "text": [
      "142.62349498427818\n"
     ]
    },
    {
     "data": {
      "text/plain": [
       "Text(0, 0.5, 'Copier Delivery Time')"
      ]
     },
     "execution_count": 72,
     "metadata": {},
     "output_type": "execute_result"
    },
    {
     "data": {
      "image/png": "[encoded data removed]",
      "text/plain": [
       "<Figure size 432x288 with 1 Axes>"
      ]
     },
     "metadata": {
      "needs_background": "light"
     },
     "output_type": "display_data"
    }
   ],
   "source": [
    "plt.plot(mu_adjusts, van_avgs_mean )\n",
    "print(mean(van_avgs_mean))\n",
    "plt.title(\"Mean Perturbations vs Copier Delivery Time\")\n",
    "plt.xlabel(\"Amount mean paramters were shifted by\")\n",
    "plt.ylabel(\"Copier Delivery Time\")\n"
   ]
  },
  {
   "cell_type": "code",
   "execution_count": null,
   "metadata": {},
   "outputs": [],
   "source": []
  }
 ],
 "metadata": {
  "colab": {
   "collapsed_sections": [],
   "name": "CopierModel.ipynb",
   "provenance": []
  },
  "kernelspec": {
   "display_name": "Python 3",
   "language": "python",
   "name": "python3"
  },
  "language_info": {
   "codemirror_mode": {
    "name": "ipython",
    "version": 3
   },
   "file_extension": ".py",
   "mimetype": "text/x-python",
   "name": "python",
   "nbconvert_exporter": "python",
   "pygments_lexer": "ipython3",
   "version": "3.6.9"
  }
 },
 "nbformat": 4,
 "nbformat_minor": 1
}
